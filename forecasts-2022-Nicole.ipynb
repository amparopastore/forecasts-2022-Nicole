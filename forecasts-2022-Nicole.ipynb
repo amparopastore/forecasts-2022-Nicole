{
 "cells": [
  {
   "cell_type": "markdown",
   "metadata": {},
   "source": [
    "# Introduction\n",
    "\n",
    "<div class=\"alert alert-block alert-danger\">\n",
    "<b>Introduction Task:</b>\n",
    "Briefly describe the overall goal of the notebook. What are we trying to achieve? What's our general approach?\n",
    "</div>"
   ]
  },
  {
   "cell_type": "markdown",
   "metadata": {},
   "source": [
    "# 1. Preliminaries"
   ]
  },
  {
   "cell_type": "code",
   "execution_count": null,
   "metadata": {},
   "outputs": [],
   "source": [
    "import pickle                           # Load and save pickle files.\n",
    "import datetime                         # Handle date/time objects.\n",
    "import re                               # Regular expressions.\n",
    "import matplotlib as mpl                # Plot things.\n",
    "import folium                           # Plot interactive maps.\n",
    "import numpy as np                      # Basic math and array operations.\n",
    "import scipy as sp                      # More math and array operations.\n",
    "\n",
    "# Import the forecast data.\n",
    "with open('forecasts_2022_nicole.pkl','rb') as f:\n",
    "    forecasts = pickle.load(f)"
   ]
  },
  {
   "cell_type": "markdown",
   "metadata": {},
   "source": [
    "<div class=\"alert alert-block alert-danger\">\n",
    "<b>Task 1:</b>\n",
    "The first point of each forecast is the true location of the storm at the time the forecast was made. Therefore, combining the first point of every forecast yields the true track of the storm. Create three lists called `true_times`,`true_latitudes`, and `true_longitudes` that contain the times, latitudes, and longitudes of each point along that true track. Also create a list called `true_points` containing (latitude,longitude) pairs along the true track. </div>"
   ]
  },
  {
   "cell_type": "code",
   "execution_count": null,
   "metadata": {},
   "outputs": [],
   "source": []
  },
  {
   "cell_type": "markdown",
   "metadata": {},
   "source": [
    "# 2. Plotting on a map"
   ]
  },
  {
   "cell_type": "markdown",
   "metadata": {},
   "source": [
    "<div class=\"alert alert-block alert-danger\">\n",
    "<b>Task 2:</b>\n",
    "Plot all the forecast on the map. Use the list of colors I defined for you (the color of the i-eth forecast should be `colors[i]`). Then plot the true track on top as a thick black line.\n",
    "</div>"
   ]
  },
  {
   "cell_type": "code",
   "execution_count": null,
   "metadata": {
    "scrolled": false
   },
   "outputs": [],
   "source": []
  },
  {
   "cell_type": "markdown",
   "metadata": {},
   "source": [
    "# 3. Interpolating the hurricane's path"
   ]
  },
  {
   "cell_type": "markdown",
   "metadata": {},
   "source": [
    "<div class=\"alert alert-block alert-danger\">\n",
    "<b>Task 3a:</b>\n",
    "Create a list containing the number of seconds elapsed between the first forecast and every forecast (including the first forecast). Call it `true_times_sec`.\n",
    "</div>"
   ]
  },
  {
   "cell_type": "code",
   "execution_count": null,
   "metadata": {},
   "outputs": [],
   "source": []
  },
  {
   "cell_type": "markdown",
   "metadata": {},
   "source": [
    "<div class=\"alert alert-block alert-danger\">\n",
    "<b>Task 3b:</b>\n",
    "Look up the documentation for `scipy.interpolate.interp1d`. Use `scipy.interpolate.interp1d`, `true_times_sec`, `true_longitudes`, and `true_latitudes` to create the functions `longitude` and `latitude` which, given a number of seconds `t`, return the approximate actual location of the hurricane `t` seconds after the first forecast. Check that both functions return the correct values at the times corresponding to actual forecasts.\n",
    "</div>"
   ]
  },
  {
   "cell_type": "code",
   "execution_count": null,
   "metadata": {
    "scrolled": true
   },
   "outputs": [],
   "source": []
  },
  {
   "cell_type": "markdown",
   "metadata": {},
   "source": [
    "<div class=\"alert alert-block alert-warning\" style=\"background-color:#f0ddcc; color:#663300\">\n",
    "<b>Extra Task 3c:</b>\n",
    "Write your own longitude function that performs linear interpolation without using `scipy.interpolate.interp1d`. Test it against the one from task 3b.\n",
    "</div>"
   ]
  },
  {
   "cell_type": "code",
   "execution_count": null,
   "metadata": {},
   "outputs": [],
   "source": []
  },
  {
   "cell_type": "markdown",
   "metadata": {},
   "source": [
    "<div class=\"alert alert-block alert-danger\">\n",
    "<b>Task 3d:</b>\n",
    "Use the interpolation above to replot the true path with more points. Make the points visible. Is the result consistent with what you expect of linear interpolation?\n",
    "</div>"
   ]
  },
  {
   "cell_type": "code",
   "execution_count": null,
   "metadata": {},
   "outputs": [],
   "source": []
  },
  {
   "cell_type": "markdown",
   "metadata": {},
   "source": [
    "# Conclusion\n",
    "\n",
    "<div class=\"alert alert-block alert-danger\">\n",
    "<b>Conclusion Task:</b>\n",
    "Give a brief (5--10 sentences) overview of the notebook. Avoid technical details; those belong as comments inside your previous tasks. Focus on the overall objective(s) and the way the tasks contributed to those objectives.\n",
    "</div>"
   ]
  },
  {
   "cell_type": "markdown",
   "metadata": {},
   "source": [
    " "
   ]
  }
 ],
 "metadata": {
  "kernelspec": {
   "display_name": "Python 3 (ipykernel)",
   "language": "python",
   "name": "python3"
  },
  "language_info": {
   "codemirror_mode": {
    "name": "ipython",
    "version": 3
   },
   "file_extension": ".py",
   "mimetype": "text/x-python",
   "name": "python",
   "nbconvert_exporter": "python",
   "pygments_lexer": "ipython3",
   "version": "3.10.8"
  }
 },
 "nbformat": 4,
 "nbformat_minor": 2
}
